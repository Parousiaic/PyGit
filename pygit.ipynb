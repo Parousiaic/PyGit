{
 "cells": [
  {
   "cell_type": "markdown",
   "metadata": {},
   "source": [
    "`os.environ['PATH']` is same as `echo $PATH`"
   ]
  },
  {
   "cell_type": "code",
   "execution_count": 1,
   "metadata": {
    "collapsed": true
   },
   "outputs": [],
   "source": [
    "import os\n",
    "import sys\n",
    "import site\n",
    "from subprocess import call, Popen, PIPE\n",
    "from setuptools import setup\n",
    "from setuptools.command.install import install as _install"
   ]
  },
  {
   "cell_type": "code",
   "execution_count": null,
   "metadata": {
    "collapsed": true
   },
   "outputs": [],
   "source": []
  },
  {
   "cell_type": "code",
   "execution_count": null,
   "metadata": {
    "collapsed": true
   },
   "outputs": [],
   "source": [
    "\"\"\"Graphical directory selection\"\"\"\n",
    "\n",
    "import os, sys, site\n",
    "\n",
    "try:\n",
    "    import tkinter as tk\n",
    "    from tkinter import filedialog\n",
    "except ImportError:\n",
    "    print(\"tkinter was not found.\")\n",
    "    pass\n",
    "\n",
    "\n",
    "def select_directory(title=\"Select directory\"):\n",
    "    \"\"\"Select and return a directory path\"\"\"\n",
    "    try:\n",
    "        root = tk.Tk()\n",
    "        root.withdraw()\n",
    "        initialdir = \"/\"\n",
    "        root_dir = filedialog.askdirectory(parent=root,\n",
    "                                        initialdir=initialdir,\n",
    "                                       title=title)\n",
    "    except:\n",
    "        print(\"Tk inter was not found.\")\n",
    "    return root_dir"
   ]
  }
 ],
 "metadata": {
  "kernelspec": {
   "display_name": "Environment (__pg)",
   "language": "",
   "name": "__pg"
  },
  "language_info": {
   "codemirror_mode": {
    "name": "ipython",
    "version": 3
   },
   "file_extension": ".py",
   "mimetype": "text/x-python",
   "name": "python",
   "nbconvert_exporter": "python",
   "pygments_lexer": "ipython3",
   "version": "3.6.0"
  }
 },
 "nbformat": 4,
 "nbformat_minor": 2
}
