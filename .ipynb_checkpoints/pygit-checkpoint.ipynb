{
 "cells": [
  {
   "cell_type": "code",
   "execution_count": 6,
   "metadata": {
    "collapsed": true
   },
   "outputs": [],
   "source": [
    "import os\n",
    "import sys\n",
    "import site\n",
    "from subprocess import call, Popen\n",
    "from setuptools import setup\n",
    "from setuptools.command.install import install as _install"
   ]
  },
  {
   "cell_type": "code",
   "execution_count": null,
   "metadata": {
    "collapsed": false
   },
   "outputs": [],
   "source": [
    "def get_site_packages_directory():\n",
    "    \"\"\"Returns site packages directory\"\"\"\n",
    "    # first try to get it from site packages\n",
    "    try:\n",
    "        return site.getusersitepackages()\n",
    "    except AttributeError:\n",
    "        pass\n",
    "    \n",
    "    # try iterating over sys.path\n",
    "    try:\n",
    "        return next(p for p in sys.path if 'site-packages' in p)\n",
    "    except StopIteration:\n",
    "        pass\n",
    "    \n",
    "    # try manually constructing the path and check if it exists\n",
    "    py_version = '{}.{}'.format(sys.version_info[0], sys.version_info[1])\n",
    "\n",
    "    prefix_paths = [\n",
    "        sys.prefix + '/lib/python{}/dist-packages/',\n",
    "        sys.prefix + '/lib/python{}/site-packages/',\n",
    "        sys.prefix + '/local/lib/python{}/dist-packages/',\n",
    "        sys.prefix + '/local/lib/python{}/site-packages/',\n",
    "        '/Library/Python/{}/site-packages/',\n",
    "    ]\n",
    "\n",
    "    py_installation_paths = [each.format(py_version) for each in prefix_paths]\n",
    "\n",
    "    paths = py_installation_paths + [\n",
    "        # these paths for versionless installs like jupyter\n",
    "        sys.prefix + '/lib/dist-packages/',\n",
    "        sys.prefix + '/lib/site-packages/',\n",
    "        sys.prefix + '/local/lib/dist-packages/',\n",
    "        sys.prefix + '/local/lib/site-packages/',\n",
    "    ]\n",
    "    for path in paths:\n",
    "        if os.path.exists(path):\n",
    "            return path\n",
    "    return None\n",
    "p = get_site_packages_directory()"
   ]
  },
  {
   "cell_type": "code",
   "execution_count": null,
   "metadata": {
    "collapsed": true
   },
   "outputs": [],
   "source": [
    "def get_package_install_directory(site_packages_directory):\n",
    "    package_folder = \"pygit-3.0-py{}.{}.egg\".format(sys.version_info[0], sys.version_info[1])\n",
    "    return os.path.join(site_packages_directory, package_folder, 'pygit')\n",
    "k = get_package_install_directory(p)"
   ]
  },
  {
   "cell_type": "code",
   "execution_count": null,
   "metadata": {
    "collapsed": false
   },
   "outputs": [],
   "source": [
    "def add_install_directory_to_pth_file(install_directory, site_package_directory):\n",
    "    \"\"\"Adds the installation directory to path\"\"\"\n",
    "    if install_directory:\n",
    "        with open(\"{}/pygit.pth\".format(site_package_directory), 'w+') as fh:\n",
    "            fh.write(install_directory)\n",
    "        return\n",
    "    return None"
   ]
  },
  {
   "cell_type": "code",
   "execution_count": null,
   "metadata": {
    "collapsed": true
   },
   "outputs": [],
   "source": [
    "def add_path_to_system_path(path):\n",
    "    os.environ[\"PATH\"] += os.pathsep + path\n",
    "add_path_to_system_path(k)"
   ]
  },
  {
   "cell_type": "code",
   "execution_count": 2,
   "metadata": {
    "collapsed": false
   },
   "outputs": [
    {
     "data": {
      "text/plain": [
       "['/usr/local/sbin', '/usr/local/bin', '/usr/sbin', '/usr/bin', '/sbin', '/bin']"
      ]
     },
     "execution_count": 2,
     "metadata": {},
     "output_type": "execute_result"
    }
   ],
   "source": [
    "os.environ['PATH'].split(os.pathsep)"
   ]
  },
  {
   "cell_type": "code",
   "execution_count": null,
   "metadata": {
    "collapsed": true
   },
   "outputs": [],
   "source": [
    "a = '/home/parousia/.virtualenvs/__pg/lib/python3.6/site-packages/pygit-3.0-py3.6.egg/pygit'"
   ]
  },
  {
   "cell_type": "code",
   "execution_count": null,
   "metadata": {
    "collapsed": true
   },
   "outputs": [],
   "source": [
    "cmd = \"export PATH=$PATH:{}\".format(a)"
   ]
  },
  {
   "cell_type": "code",
   "execution_count": 15,
   "metadata": {
    "collapsed": false
   },
   "outputs": [],
   "source": [
    "k=Popen([\"export\",  \"PATH=$PATH:\", r'/home/parousia/.virtualenvs/__pg/lib/python3.6/site-packages/pygit-3.0-py3.6.egg/pygit'], shell=True)"
   ]
  },
  {
   "cell_type": "code",
   "execution_count": 16,
   "metadata": {
    "collapsed": false
   },
   "outputs": [
    {
     "data": {
      "text/plain": [
       "(None, None)"
      ]
     },
     "execution_count": 16,
     "metadata": {},
     "output_type": "execute_result"
    }
   ],
   "source": [
    "k.communicate()"
   ]
  },
  {
   "cell_type": "code",
   "execution_count": null,
   "metadata": {
    "collapsed": true
   },
   "outputs": [],
   "source": []
  }
 ],
 "metadata": {
  "kernelspec": {
   "display_name": "Environment (__pg)",
   "language": "",
   "name": "__pg"
  },
  "language_info": {
   "codemirror_mode": {
    "name": "ipython",
    "version": 3
   },
   "file_extension": ".py",
   "mimetype": "text/x-python",
   "name": "python",
   "nbconvert_exporter": "python",
   "pygments_lexer": "ipython3",
   "version": "3.6.0"
  }
 },
 "nbformat": 4,
 "nbformat_minor": 2
}
